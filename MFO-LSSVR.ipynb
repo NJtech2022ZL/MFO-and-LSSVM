{
 "cells": [
  {
   "cell_type": "code",
   "execution_count": 1,
   "id": "d44ae381",
   "metadata": {},
   "outputs": [],
   "source": [
    "import matplotlib.pyplot as plt\n",
    "import numpy as np\n",
    "import pandas as pd\n",
    "import tensorflow as tf#Tensorflow framework is used to partition data sets\n",
    "from sklearn.metrics import mean_squared_error, r2_score\n",
    "from LSSVMRegression import LSSVMRegression"
   ]
  },
  {
   "cell_type": "code",
   "execution_count": 10,
   "id": "bcb3d962",
   "metadata": {},
   "outputs": [],
   "source": [
    "data = pd.read_excel('D:/LIBS实验数据/LIBS/LIBS/mineral_data/data-500-6.5.xlsx')#This is the location of the dataset\n",
    "x_data = data.iloc[:, 0:4]   #Partition data set\n",
    "y_data = data.iloc[:, 4]\n",
    "x_data=np.array(x_data)\n",
    "y_data=np.array(y_data)\n",
    "#数据集乱序\n",
    "\n",
    "np.random.seed(116)\n",
    "np.random.shuffle(x_data)\n",
    "np.random.seed(116)\n",
    "np.random.shuffle(y_data)\n",
    "\n",
    "tf.random.set_seed(116)\n",
    "#将打乱后的数据分为训练集和测试集\n",
    "x_train = x_data[:-50]\n",
    "y_train = y_data[:-50]\n",
    "#y_train = y_train.reshape(1, -1).T\n",
    "x_test = x_data[-50:]\n",
    "y_test = y_data[-50:]\n",
    "X = x_train\n",
    "Y = y_train\n",
    "#y_test = y_test.reshape(1, -1).T\n",
    "#转换数据类型\n",
    "#x_train = tf.cast(x_train,tf.float32)\n",
    "#X = tf.cast(x_train,tf.float32)\n",
    "\n",
    "#y_train = tf.cast(y_train,tf.float32)\n",
    "#Y = tf.cast(y_train,tf.float32)"
   ]
  },
  {
   "cell_type": "code",
   "execution_count": 11,
   "id": "c478aeec",
   "metadata": {},
   "outputs": [],
   "source": [
    "#Annotation language is Chinese\n",
    "#Define the main function that optimizes a given function\n",
    "def MFO(nsa, dim, ub, lb, max_iter, fobj):\n",
    "# def MFO(nsa, dim, ub, lb, shift, max_iter, fobj):\n",
    "    ''' Main function\n",
    "    Parameters :\n",
    "    - nsa : Number of Search Agents\n",
    "    - dim : Dimension of Search Space\n",
    "    - ub : Upper Bound\n",
    "    - lb : Lower Bound\n",
    "    - max_iter : Number of Iterations\n",
    "    - fobj : Objective Function (Fitness Function)\n",
    "    Returns :\n",
    "    - bFlameScore : Best Flame Score   最好的结果得分\n",
    "    - bFlamePos : Best Flame Position  最好的结果\n",
    "    - ConvergenceCurve : Evolution of the best Flame Score on every iteration\n",
    "    '''\n",
    "    #record_mothPos  所有飞蛾位置\n",
    "    #record_fitness  每轮迭代的所有适应度\n",
    "    #record_bmothPos 每一轮的最佳位置\n",
    "\n",
    "    # Initialize the positions of moths\n",
    "    mothPos = np.random.uniform(low=lb, high=ub, size=(nsa, dim))  # + np.ones((nsa, dim))*shift   初始化飞蛾位置\n",
    "\n",
    "    convergenceCurve = np.zeros(shape=(max_iter))#保存每一次迭代过程中最优火焰的得分\n",
    "\n",
    "    # print(\"Optimizing  \\\"\" + fobj.__name__ + \"\\\"\")\n",
    "    ###########################################\n",
    "    record_bmothPos = np.array([])#每轮最佳飞蛾位置   横着显示坐标\n",
    "    record_mothPos = np.array([[0,0]])#所有飞蛾位置\n",
    "    record_fitness = np.array([])#所有飞蛾适应度\n",
    "    ###########################################\n",
    "    for iteration in range(max_iter):  # Main loop\n",
    "        # Number of flames Eq. (3.14) in the paper\n",
    "        flameNo = int(np.ceil(nsa-(iteration+1)*((nsa-1)/max_iter)))#随着迭代，火焰数量减少  np.ceil向上取整\n",
    "\n",
    "        # Check if moths go out of the search space and bring them back\n",
    "        mothPos = np.clip(mothPos, lb, ub)#限定飞蛾位置，所有比lb小的值都会被限定成lb\n",
    "        ###########################################\n",
    "        record_mothPos = np.append(record_mothPos,values=mothPos,axis=0)#记录所有飞蛾位置\n",
    "        ###########################################\n",
    "        # Calculate the fitness of moths\n",
    "        #mothFit = fobj(mothPos)#将飞蛾位置带入\n",
    "        fitness_container=[]\n",
    "        for k in range(0,nsa):#nsa为飞蛾个数\n",
    "            fitness_container.append(fobj(mothPos[k]))#存入所有飞蛾适应度，fobj为适应度函数\n",
    "        \n",
    "        \n",
    "        mothFit=np.array(fitness_container)\n",
    "        ###########################################\n",
    "        record_fitness = np.append(record_fitness,values=mothFit,axis=0)#记录所有飞蛾适应度()\n",
    "        ###########################################\n",
    "       \n",
    "        #记录每轮迭代的所有适应度\n",
    "\n",
    "        if iteration == 0:#第一次迭代，火焰的位置就是最优适应度飞蛾的位置，火焰适应度等于最优飞蛾适应度\n",
    "            # Sort the first population of moths\n",
    "            \n",
    "            \n",
    "            order = mothFit.argsort(axis=0)#从小到大排序，返回其索引\n",
    "            mothFit = mothFit[order]#将适应度从小到大排序\n",
    "            mothPos = mothPos[order, :]#将飞蛾位置按适应度从小到大排序\n",
    "\n",
    "            # Update the flames\n",
    "            bFlames = np.copy(mothPos)#火焰保存了飞蛾排序后的位置\n",
    "            bFlamesFit = np.copy(mothFit)#火焰适应度保存了飞蛾排序后的适应度\n",
    "\n",
    "            \n",
    "\n",
    "        else:\n",
    "            # Sort the moths\n",
    "            #record_fitness = np.append(record_fitness,values=mothFit, axis=0)#记录所有飞蛾适应度\n",
    "            \n",
    "            doublePop = np.vstack((bFlames, mothPos))#按行堆叠数组\n",
    "            doubleFit = np.hstack((bFlamesFit, mothFit))#按列堆叠\n",
    "\n",
    "            order = doubleFit.argsort(axis=0)#将飞蛾和火焰的适应度进行排序，返回其索引\n",
    "            doubleFit = doubleFit[order]\n",
    "            doublePop = doublePop[order, :]\n",
    "\n",
    "            # Update the flames\n",
    "            bFlames = doublePop[:nsa, :]\n",
    "            bFlamesFit = doubleFit[:nsa]\n",
    "\n",
    "        # Update the position best flame obtained so far\n",
    "        bFlameScore = bFlamesFit[0]#记录最优适应度\n",
    "        bFlamesPos = bFlames[0, :]#记录最优适应度的飞蛾位置\n",
    "        ###########################################\n",
    "        record_bmothPos = np.append(record_bmothPos,values=bFlamesPos,axis=0)#记录每轮迭代中最优的飞蛾位置\n",
    "        ###########################################\n",
    "       \n",
    "        # a linearly dicreases from -1 to -2 to calculate t in Eq. (3.12)  a对应论文中的r\n",
    "        a = -1 + (iteration+1) * ((-1)/max_iter)#a的范围为-1到-2\n",
    "\n",
    "        # D in Eq. (3.13)\n",
    "        distanceToFlames = np.abs(bFlames - mothPos)#飞蛾和火焰的距离\n",
    "\n",
    "        b = 1\n",
    "        t = (a-1)*np.random.rand(nsa, dim) + 1#nsa行dim列的矩阵\n",
    "        ''' Update the position of the moth with respect to its corresponding\n",
    "        flame if the moth position is less than the number of flames\n",
    "        calculated, otherwise update the position of the moth with respect\n",
    "        to the last flame '''#如果飞蛾位置小于计算的火焰数，则更新飞蛾相对于其相应火焰的位置，否则更新飞蛾关于最后一个火焰的位置\n",
    "        temp1 = bFlames[:flameNo, :]\n",
    "        temp2 = bFlames[flameNo-1, :]*np.ones(shape=(nsa-flameNo, dim))\n",
    "        temp2 = np.vstack((temp1, temp2))#np.vstack按行顺序堆叠数组   火焰数目在减少，用适应度最差的火焰补齐火焰位置矩阵\n",
    "        mothPos = distanceToFlames*np.exp(b*t)*np.cos(t*2*np.pi) + temp2#飞蛾位置更新\n",
    "\n",
    "        convergenceCurve[iteration] = bFlameScore#保存每一次迭代过程中最优火焰的得分   将每次迭代的最优火焰得分都保存在这个矩阵里\n",
    "\n",
    "    #return bFlameScore,bFlamesPos,convergenceCurve,record_mothPos,record_fitness,record_bmothPos#convergenceCurve每次迭代的最优适应度\n",
    "    return convergenceCurve, record_mothPos, record_bmothPos ,record_fitness #convergenceCurve每次迭代的最优适应度"
   ]
  },
  {
   "cell_type": "code",
   "execution_count": 12,
   "id": "a2c567aa",
   "metadata": {},
   "outputs": [],
   "source": [
    "from sklearn.metrics import mean_absolute_error   #Customized fitness function, where the MAE value predicted by the model is used\n",
    "def fitness_function(position):   # 输出\n",
    "    clfrbf = LSSVMRegression(gamma=position[0],kernel='rbf',sigma=position[1])\n",
    "    clfrbf.fit(X,Y) # train our model, aka solve the set of linear equations\n",
    "    Y_pred = clfrbf.predict(X)\n",
    "    #print(\"b = \",clfrbf.intercept_)#截距\n",
    "    #print(\"a_i = \",clfrbf.coef_)#支持向量的系数\n",
    "    MAE=mean_absolute_error(Y_pred, Y)\n",
    "    # 返回混淆函数，分类误差矩阵，分别是训练中的 测试中的 下面输出错误分类结果\n",
    "    return MAE"
   ]
  },
  {
   "cell_type": "code",
   "execution_count": 13,
   "id": "b7eb2377",
   "metadata": {},
   "outputs": [
    {
     "data": {
      "image/png": "[encoded data removed]",
      "text/plain": [
       "<Figure size 432x288 with 1 Axes>"
      ]
     },
     "metadata": {
      "needs_background": "light"
     },
     "output_type": "display_data"
    }
   ],
   "source": [
    "#Testing the optimization function\n",
    "nsa = 30\n",
    "max_iter = 100\n",
    "\n",
    "lb = 0.001\n",
    "ub = 100\n",
    "dim = 2\n",
    "# shift = -30\n",
    "\n",
    "convergenceCurve, record_mothPos, record_bmothPos ,record_fitness= MFO(\n",
    "    nsa, dim, ub, lb, max_iter,fitness_function)\n",
    "#print(bFlameScore, '\\n', bFlamesPos)\n",
    "x = np.arange(0, convergenceCurve.shape[0], 1)#每次迭代都有一个最优适应度\n",
    "plt.plot(x, convergenceCurve)\n",
    "plt.xlabel('Iterations')\n",
    "plt.ylabel('Convergence Curve')\n",
    "plt.show()"
   ]
  },
  {
   "cell_type": "code",
   "execution_count": 14,
   "id": "3cb0c91d",
   "metadata": {},
   "outputs": [
    {
     "name": "stdout",
     "output_type": "stream",
     "text": [
      "OK\n"
     ]
    }
   ],
   "source": [
    "#将所有飞蛾位置写入excel\n",
    "record_mothPos1 = pd.DataFrame(record_mothPos[:,0])\n",
    "record_mothPos2 = pd.DataFrame(record_mothPos[:,1])\n",
    "record_mothPos3 = pd.concat([record_mothPos1,record_mothPos2],axis=1)\n",
    "writer = pd.ExcelWriter(\"D:/LIBS实验数据/LIBS/LIBS/mineral_data/MFO所有飞蛾位置-6.5.xlsx\")\n",
    "record_mothPos3.to_excel(writer, 'page_1', float_format='%.5f')\n",
    "writer.save()\n",
    "writer.close()\n",
    "print('OK')"
   ]
  },
  {
   "cell_type": "code",
   "execution_count": 15,
   "id": "821e368f",
   "metadata": {},
   "outputs": [
    {
     "name": "stdout",
     "output_type": "stream",
     "text": [
      "OK\n"
     ]
    }
   ],
   "source": [
    "#将每轮最佳飞蛾位置写入excel\n",
    "record_bmothPos1 = []\n",
    "record_bmothPos2 = []\n",
    "for i in range(0,200,2):#(0,102,2)\n",
    "    record_bmothPos1.append(record_bmothPos[i].tolist())\n",
    "record_bmothPos1 = pd.DataFrame(record_bmothPos1)\n",
    "for j in range(1,199,2):#(1,100,2)\n",
    "    record_bmothPos2.append(record_bmothPos[j].tolist())\n",
    "record_bmothPos2 = pd.DataFrame(record_bmothPos2)\n",
    "record_bmothPos3 = pd.concat([record_bmothPos1,record_bmothPos2],axis=1)\n",
    "writer = pd.ExcelWriter(\"D:/LIBS实验数据/LIBS/LIBS/mineral_data/MFO每轮最佳飞蛾位置-6.5.xlsx\")\n",
    "record_bmothPos3.to_excel(writer, 'page_1', float_format='%.5f')\n",
    "writer.save()\n",
    "writer.close()\n",
    "print('OK')"
   ]
  },
  {
   "cell_type": "code",
   "execution_count": 16,
   "id": "2d5e5169",
   "metadata": {},
   "outputs": [
    {
     "name": "stdout",
     "output_type": "stream",
     "text": [
      "OK\n"
     ]
    }
   ],
   "source": [
    "#将所有飞蛾适应度写入excel\n",
    "record_fitness = pd.DataFrame(record_fitness)\n",
    "writer = pd.ExcelWriter(\"D:/LIBS实验数据/LIBS/LIBS/mineral_data/MFO所有飞蛾适应度-6.5.xlsx\")\n",
    "record_fitness.to_excel(writer, 'page_1', float_format='%.5f')\n",
    "writer.save()\n",
    "writer.close()\n",
    "print('OK')"
   ]
  },
  {
   "cell_type": "code",
   "execution_count": 17,
   "id": "a9941733",
   "metadata": {},
   "outputs": [
    {
     "name": "stdout",
     "output_type": "stream",
     "text": [
      "OK\n"
     ]
    }
   ],
   "source": [
    "#将每轮最佳适应度写入excel\n",
    "quzaoqian=convergenceCurve\n",
    "quzaoqian=pd.DataFrame(quzaoqian)\n",
    "writer = pd.ExcelWriter(\"D:/LIBS实验数据/LIBS/LIBS/mineral_data/MFO每轮最佳适应度-6.5.xlsx\")\n",
    "quzaoqian.to_excel(writer, 'page_1', float_format='%.5f')\n",
    "writer.save()\n",
    "writer.close()\n",
    "print('OK')"
   ]
  }
 ],
 "metadata": {
  "kernelspec": {
   "display_name": "Python 3 (ipykernel)",
   "language": "python",
   "name": "python3"
  },
  "language_info": {
   "codemirror_mode": {
    "name": "ipython",
    "version": 3
   },
   "file_extension": ".py",
   "mimetype": "text/x-python",
   "name": "python",
   "nbconvert_exporter": "python",
   "pygments_lexer": "ipython3",
   "version": "3.7.13"
  }
 },
 "nbformat": 4,
 "nbformat_minor": 5
}
